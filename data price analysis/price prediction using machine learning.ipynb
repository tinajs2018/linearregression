{
 "cells": [
  {
   "cell_type": "code",
   "execution_count": 1,
   "metadata": {},
   "outputs": [],
   "source": [
    "import pandas as pd\n",
    "import numpy as np\n",
    "import matplotlib.pyplot as plt\n",
    "from sklearn import linear_model"
   ]
  },
  {
   "cell_type": "code",
   "execution_count": 23,
   "metadata": {},
   "outputs": [
    {
     "data": {
      "text/html": [
       "<div>\n",
       "<style scoped>\n",
       "    .dataframe tbody tr th:only-of-type {\n",
       "        vertical-align: middle;\n",
       "    }\n",
       "\n",
       "    .dataframe tbody tr th {\n",
       "        vertical-align: top;\n",
       "    }\n",
       "\n",
       "    .dataframe thead th {\n",
       "        text-align: right;\n",
       "    }\n",
       "</style>\n",
       "<table border=\"1\" class=\"dataframe\">\n",
       "  <thead>\n",
       "    <tr style=\"text-align: right;\">\n",
       "      <th></th>\n",
       "      <th>Date</th>\n",
       "      <th>A1</th>\n",
       "      <th>A2</th>\n",
       "      <th>A3</th>\n",
       "      <th>R1</th>\n",
       "      <th>R2</th>\n",
       "      <th>R3</th>\n",
       "      <th>M1</th>\n",
       "      <th>M2</th>\n",
       "      <th>M3</th>\n",
       "      <th>P1</th>\n",
       "      <th>P2</th>\n",
       "      <th>P3</th>\n",
       "      <th>D1</th>\n",
       "    </tr>\n",
       "  </thead>\n",
       "  <tbody>\n",
       "    <tr>\n",
       "      <td>0</td>\n",
       "      <td>01/02/1995</td>\n",
       "      <td>1.127</td>\n",
       "      <td>1.104</td>\n",
       "      <td>1.231</td>\n",
       "      <td>1.079</td>\n",
       "      <td>1.063</td>\n",
       "      <td>1.167</td>\n",
       "      <td>1.170</td>\n",
       "      <td>1.159</td>\n",
       "      <td>1.298</td>\n",
       "      <td>1.272</td>\n",
       "      <td>1.250</td>\n",
       "      <td>1.386</td>\n",
       "      <td>1.104</td>\n",
       "    </tr>\n",
       "    <tr>\n",
       "      <td>1</td>\n",
       "      <td>01/09/1995</td>\n",
       "      <td>1.134</td>\n",
       "      <td>1.111</td>\n",
       "      <td>1.232</td>\n",
       "      <td>1.086</td>\n",
       "      <td>1.070</td>\n",
       "      <td>1.169</td>\n",
       "      <td>1.177</td>\n",
       "      <td>1.164</td>\n",
       "      <td>1.300</td>\n",
       "      <td>1.279</td>\n",
       "      <td>1.256</td>\n",
       "      <td>1.387</td>\n",
       "      <td>1.102</td>\n",
       "    </tr>\n",
       "    <tr>\n",
       "      <td>2</td>\n",
       "      <td>01/16/1995</td>\n",
       "      <td>1.126</td>\n",
       "      <td>1.102</td>\n",
       "      <td>1.231</td>\n",
       "      <td>1.078</td>\n",
       "      <td>1.062</td>\n",
       "      <td>1.169</td>\n",
       "      <td>1.168</td>\n",
       "      <td>1.155</td>\n",
       "      <td>1.299</td>\n",
       "      <td>1.271</td>\n",
       "      <td>1.249</td>\n",
       "      <td>1.385</td>\n",
       "      <td>1.100</td>\n",
       "    </tr>\n",
       "    <tr>\n",
       "      <td>3</td>\n",
       "      <td>01/23/1995</td>\n",
       "      <td>1.132</td>\n",
       "      <td>1.110</td>\n",
       "      <td>1.226</td>\n",
       "      <td>1.083</td>\n",
       "      <td>1.068</td>\n",
       "      <td>1.165</td>\n",
       "      <td>1.177</td>\n",
       "      <td>1.165</td>\n",
       "      <td>1.296</td>\n",
       "      <td>1.277</td>\n",
       "      <td>1.256</td>\n",
       "      <td>1.378</td>\n",
       "      <td>1.095</td>\n",
       "    </tr>\n",
       "    <tr>\n",
       "      <td>4</td>\n",
       "      <td>01/30/1995</td>\n",
       "      <td>1.131</td>\n",
       "      <td>1.109</td>\n",
       "      <td>1.221</td>\n",
       "      <td>1.083</td>\n",
       "      <td>1.068</td>\n",
       "      <td>1.162</td>\n",
       "      <td>1.176</td>\n",
       "      <td>1.163</td>\n",
       "      <td>1.291</td>\n",
       "      <td>1.275</td>\n",
       "      <td>1.255</td>\n",
       "      <td>1.370</td>\n",
       "      <td>1.090</td>\n",
       "    </tr>\n",
       "    <tr>\n",
       "      <td>...</td>\n",
       "      <td>...</td>\n",
       "      <td>...</td>\n",
       "      <td>...</td>\n",
       "      <td>...</td>\n",
       "      <td>...</td>\n",
       "      <td>...</td>\n",
       "      <td>...</td>\n",
       "      <td>...</td>\n",
       "      <td>...</td>\n",
       "      <td>...</td>\n",
       "      <td>...</td>\n",
       "      <td>...</td>\n",
       "      <td>...</td>\n",
       "      <td>...</td>\n",
       "    </tr>\n",
       "    <tr>\n",
       "      <td>1356</td>\n",
       "      <td>12/28/2020</td>\n",
       "      <td>2.330</td>\n",
       "      <td>2.225</td>\n",
       "      <td>2.535</td>\n",
       "      <td>2.243</td>\n",
       "      <td>2.158</td>\n",
       "      <td>2.423</td>\n",
       "      <td>2.634</td>\n",
       "      <td>2.482</td>\n",
       "      <td>2.858</td>\n",
       "      <td>2.889</td>\n",
       "      <td>2.770</td>\n",
       "      <td>3.031</td>\n",
       "      <td>2.635</td>\n",
       "    </tr>\n",
       "    <tr>\n",
       "      <td>1357</td>\n",
       "      <td>01/04/2021</td>\n",
       "      <td>2.336</td>\n",
       "      <td>2.227</td>\n",
       "      <td>2.549</td>\n",
       "      <td>2.249</td>\n",
       "      <td>2.160</td>\n",
       "      <td>2.437</td>\n",
       "      <td>2.639</td>\n",
       "      <td>2.484</td>\n",
       "      <td>2.867</td>\n",
       "      <td>2.895</td>\n",
       "      <td>2.771</td>\n",
       "      <td>3.042</td>\n",
       "      <td>2.640</td>\n",
       "    </tr>\n",
       "    <tr>\n",
       "      <td>1358</td>\n",
       "      <td>01/11/2021</td>\n",
       "      <td>2.403</td>\n",
       "      <td>2.298</td>\n",
       "      <td>2.610</td>\n",
       "      <td>2.317</td>\n",
       "      <td>2.232</td>\n",
       "      <td>2.498</td>\n",
       "      <td>2.702</td>\n",
       "      <td>2.550</td>\n",
       "      <td>2.927</td>\n",
       "      <td>2.959</td>\n",
       "      <td>2.839</td>\n",
       "      <td>3.101</td>\n",
       "      <td>2.670</td>\n",
       "    </tr>\n",
       "    <tr>\n",
       "      <td>1359</td>\n",
       "      <td>01/18/2021</td>\n",
       "      <td>2.464</td>\n",
       "      <td>2.351</td>\n",
       "      <td>2.688</td>\n",
       "      <td>2.379</td>\n",
       "      <td>2.285</td>\n",
       "      <td>2.579</td>\n",
       "      <td>2.759</td>\n",
       "      <td>2.601</td>\n",
       "      <td>2.995</td>\n",
       "      <td>3.014</td>\n",
       "      <td>2.885</td>\n",
       "      <td>3.166</td>\n",
       "      <td>2.696</td>\n",
       "    </tr>\n",
       "    <tr>\n",
       "      <td>1360</td>\n",
       "      <td>01/25/2021</td>\n",
       "      <td>2.478</td>\n",
       "      <td>2.363</td>\n",
       "      <td>2.703</td>\n",
       "      <td>2.392</td>\n",
       "      <td>2.298</td>\n",
       "      <td>2.593</td>\n",
       "      <td>2.776</td>\n",
       "      <td>2.615</td>\n",
       "      <td>3.014</td>\n",
       "      <td>3.033</td>\n",
       "      <td>2.900</td>\n",
       "      <td>3.191</td>\n",
       "      <td>2.716</td>\n",
       "    </tr>\n",
       "  </tbody>\n",
       "</table>\n",
       "<p>1361 rows × 14 columns</p>\n",
       "</div>"
      ],
      "text/plain": [
       "            Date     A1     A2     A3     R1     R2     R3     M1     M2  \\\n",
       "0     01/02/1995  1.127  1.104  1.231  1.079  1.063  1.167  1.170  1.159   \n",
       "1     01/09/1995  1.134  1.111  1.232  1.086  1.070  1.169  1.177  1.164   \n",
       "2     01/16/1995  1.126  1.102  1.231  1.078  1.062  1.169  1.168  1.155   \n",
       "3     01/23/1995  1.132  1.110  1.226  1.083  1.068  1.165  1.177  1.165   \n",
       "4     01/30/1995  1.131  1.109  1.221  1.083  1.068  1.162  1.176  1.163   \n",
       "...          ...    ...    ...    ...    ...    ...    ...    ...    ...   \n",
       "1356  12/28/2020  2.330  2.225  2.535  2.243  2.158  2.423  2.634  2.482   \n",
       "1357  01/04/2021  2.336  2.227  2.549  2.249  2.160  2.437  2.639  2.484   \n",
       "1358  01/11/2021  2.403  2.298  2.610  2.317  2.232  2.498  2.702  2.550   \n",
       "1359  01/18/2021  2.464  2.351  2.688  2.379  2.285  2.579  2.759  2.601   \n",
       "1360  01/25/2021  2.478  2.363  2.703  2.392  2.298  2.593  2.776  2.615   \n",
       "\n",
       "         M3     P1     P2     P3     D1  \n",
       "0     1.298  1.272  1.250  1.386  1.104  \n",
       "1     1.300  1.279  1.256  1.387  1.102  \n",
       "2     1.299  1.271  1.249  1.385  1.100  \n",
       "3     1.296  1.277  1.256  1.378  1.095  \n",
       "4     1.291  1.275  1.255  1.370  1.090  \n",
       "...     ...    ...    ...    ...    ...  \n",
       "1356  2.858  2.889  2.770  3.031  2.635  \n",
       "1357  2.867  2.895  2.771  3.042  2.640  \n",
       "1358  2.927  2.959  2.839  3.101  2.670  \n",
       "1359  2.995  3.014  2.885  3.166  2.696  \n",
       "1360  3.014  3.033  2.900  3.191  2.716  \n",
       "\n",
       "[1361 rows x 14 columns]"
      ]
     },
     "execution_count": 23,
     "metadata": {},
     "output_type": "execute_result"
    }
   ],
   "source": [
    "df=pd.read_csv(\"data2.csv\")\n",
    "df"
   ]
  },
  {
   "cell_type": "code",
   "execution_count": 25,
   "metadata": {},
   "outputs": [
    {
     "data": {
      "text/plain": [
       "<matplotlib.collections.PathCollection at 0x7f26fea91310>"
      ]
     },
     "execution_count": 25,
     "metadata": {},
     "output_type": "execute_result"
    },
    {
     "data": {
      "image/png": "[encoded data removed]",
      "text/plain": [
       "<Figure size 432x288 with 1 Axes>"
      ]
     },
     "metadata": {
      "needs_background": "light"
     },
     "output_type": "display_data"
    }
   ],
   "source": [
    "#drawing a scatter plot to get a overview of the data\n",
    "%matplotlib inline\n",
    "plt.xlabel(\"Price of monthy oil on  retail\")\n",
    "plt.ylabel(\"price of monthy oil on midgrade\")\n",
    "plt.scatter(df.A1,df.M1 ,color=\"red\",marker=\"+\")"
   ]
  },
  {
   "cell_type": "code",
   "execution_count": 27,
   "metadata": {},
   "outputs": [
    {
     "data": {
      "text/plain": [
       "LinearRegression(copy_X=True, fit_intercept=True, n_jobs=None, normalize=False)"
      ]
     },
     "execution_count": 27,
     "metadata": {},
     "output_type": "execute_result"
    }
   ],
   "source": [
    "#creating an object for linear regression model\n",
    "reg=linear_model.LinearRegression()\n",
    "#fitting the data\n",
    "reg.fit(df[['A1']],df.M1)"
   ]
  },
  {
   "cell_type": "code",
   "execution_count": 33,
   "metadata": {},
   "outputs": [
    {
     "ename": "ValueError",
     "evalue": "Expected 2D array, got scalar array instead:\narray=1.5.\nReshape your data either using array.reshape(-1, 1) if your data has a single feature or array.reshape(1, -1) if it contains a single sample.",
     "output_type": "error",
     "traceback": [
      "\u001b[0;31m---------------------------------------------------------------------------\u001b[0m",
      "\u001b[0;31mValueError\u001b[0m                                Traceback (most recent call last)",
      "\u001b[0;32m<ipython-input-33-10bfec24d9a4>\u001b[0m in \u001b[0;36m<module>\u001b[0;34m\u001b[0m\n\u001b[0;32m----> 1\u001b[0;31m \u001b[0mreg\u001b[0m\u001b[0;34m.\u001b[0m\u001b[0mpredict\u001b[0m\u001b[0;34m(\u001b[0m\u001b[0;36m1.5\u001b[0m\u001b[0;34m)\u001b[0m\u001b[0;34m\u001b[0m\u001b[0;34m\u001b[0m\u001b[0m\n\u001b[0m",
      "\u001b[0;32m~/anaconda3/lib/python3.7/site-packages/sklearn/linear_model/base.py\u001b[0m in \u001b[0;36mpredict\u001b[0;34m(self, X)\u001b[0m\n\u001b[1;32m    219\u001b[0m             \u001b[0mReturns\u001b[0m \u001b[0mpredicted\u001b[0m \u001b[0mvalues\u001b[0m\u001b[0;34m.\u001b[0m\u001b[0;34m\u001b[0m\u001b[0;34m\u001b[0m\u001b[0m\n\u001b[1;32m    220\u001b[0m         \"\"\"\n\u001b[0;32m--> 221\u001b[0;31m         \u001b[0;32mreturn\u001b[0m \u001b[0mself\u001b[0m\u001b[0;34m.\u001b[0m\u001b[0m_decision_function\u001b[0m\u001b[0;34m(\u001b[0m\u001b[0mX\u001b[0m\u001b[0;34m)\u001b[0m\u001b[0;34m\u001b[0m\u001b[0;34m\u001b[0m\u001b[0m\n\u001b[0m\u001b[1;32m    222\u001b[0m \u001b[0;34m\u001b[0m\u001b[0m\n\u001b[1;32m    223\u001b[0m     \u001b[0m_preprocess_data\u001b[0m \u001b[0;34m=\u001b[0m \u001b[0mstaticmethod\u001b[0m\u001b[0;34m(\u001b[0m\u001b[0m_preprocess_data\u001b[0m\u001b[0;34m)\u001b[0m\u001b[0;34m\u001b[0m\u001b[0;34m\u001b[0m\u001b[0m\n",
      "\u001b[0;32m~/anaconda3/lib/python3.7/site-packages/sklearn/linear_model/base.py\u001b[0m in \u001b[0;36m_decision_function\u001b[0;34m(self, X)\u001b[0m\n\u001b[1;32m    202\u001b[0m         \u001b[0mcheck_is_fitted\u001b[0m\u001b[0;34m(\u001b[0m\u001b[0mself\u001b[0m\u001b[0;34m,\u001b[0m \u001b[0;34m\"coef_\"\u001b[0m\u001b[0;34m)\u001b[0m\u001b[0;34m\u001b[0m\u001b[0;34m\u001b[0m\u001b[0m\n\u001b[1;32m    203\u001b[0m \u001b[0;34m\u001b[0m\u001b[0m\n\u001b[0;32m--> 204\u001b[0;31m         \u001b[0mX\u001b[0m \u001b[0;34m=\u001b[0m \u001b[0mcheck_array\u001b[0m\u001b[0;34m(\u001b[0m\u001b[0mX\u001b[0m\u001b[0;34m,\u001b[0m \u001b[0maccept_sparse\u001b[0m\u001b[0;34m=\u001b[0m\u001b[0;34m[\u001b[0m\u001b[0;34m'csr'\u001b[0m\u001b[0;34m,\u001b[0m \u001b[0;34m'csc'\u001b[0m\u001b[0;34m,\u001b[0m \u001b[0;34m'coo'\u001b[0m\u001b[0;34m]\u001b[0m\u001b[0;34m)\u001b[0m\u001b[0;34m\u001b[0m\u001b[0;34m\u001b[0m\u001b[0m\n\u001b[0m\u001b[1;32m    205\u001b[0m         return safe_sparse_dot(X, self.coef_.T,\n\u001b[1;32m    206\u001b[0m                                dense_output=True) + self.intercept_\n",
      "\u001b[0;32m~/anaconda3/lib/python3.7/site-packages/sklearn/utils/validation.py\u001b[0m in \u001b[0;36mcheck_array\u001b[0;34m(array, accept_sparse, accept_large_sparse, dtype, order, copy, force_all_finite, ensure_2d, allow_nd, ensure_min_samples, ensure_min_features, warn_on_dtype, estimator)\u001b[0m\n\u001b[1;32m    512\u001b[0m                     \u001b[0;34m\"Reshape your data either using array.reshape(-1, 1) if \"\u001b[0m\u001b[0;34m\u001b[0m\u001b[0;34m\u001b[0m\u001b[0m\n\u001b[1;32m    513\u001b[0m                     \u001b[0;34m\"your data has a single feature or array.reshape(1, -1) \"\u001b[0m\u001b[0;34m\u001b[0m\u001b[0;34m\u001b[0m\u001b[0m\n\u001b[0;32m--> 514\u001b[0;31m                     \"if it contains a single sample.\".format(array))\n\u001b[0m\u001b[1;32m    515\u001b[0m             \u001b[0;31m# If input is 1D raise error\u001b[0m\u001b[0;34m\u001b[0m\u001b[0;34m\u001b[0m\u001b[0;34m\u001b[0m\u001b[0m\n\u001b[1;32m    516\u001b[0m             \u001b[0;32mif\u001b[0m \u001b[0marray\u001b[0m\u001b[0;34m.\u001b[0m\u001b[0mndim\u001b[0m \u001b[0;34m==\u001b[0m \u001b[0;36m1\u001b[0m\u001b[0;34m:\u001b[0m\u001b[0;34m\u001b[0m\u001b[0;34m\u001b[0m\u001b[0m\n",
      "\u001b[0;31mValueError\u001b[0m: Expected 2D array, got scalar array instead:\narray=1.5.\nReshape your data either using array.reshape(-1, 1) if your data has a single feature or array.reshape(1, -1) if it contains a single sample."
     ]
    }
   ],
   "source": [
    "reg.predict(1.5)"
   ]
  },
  {
   "cell_type": "code",
   "execution_count": 43,
   "metadata": {},
   "outputs": [
    {
     "data": {
      "text/plain": [
       "[<matplotlib.lines.Line2D at 0x7f26fdd62f90>]"
      ]
     },
     "execution_count": 43,
     "metadata": {},
     "output_type": "execute_result"
    },
    {
     "data": {
      "image/png": "[encoded data removed]",
      "text/plain": [
       "<Figure size 432x288 with 1 Axes>"
      ]
     },
     "metadata": {
      "needs_background": "light"
     },
     "output_type": "display_data"
    }
   ],
   "source": [
    "#drawing a scatter plot to get a overview of the data\n",
    "%matplotlib inline\n",
    "plt.xlabel(\"Price of monthy oil on  retail\" ,fontsize=20)\n",
    "plt.ylabel(\"price of monthy oil on midgrade\" ,fontsize=20)\n",
    "plt.scatter(df.A1,df.M1 ,color=\"red\",marker=\"+\")\n",
    "plt.plot(df.A1,reg.predict(df[[\"A1\"]]),color='blue')"
   ]
  },
  {
   "cell_type": "code",
   "execution_count": null,
   "metadata": {},
   "outputs": [],
   "source": []
  },
  {
   "cell_type": "code",
   "execution_count": null,
   "metadata": {},
   "outputs": [],
   "source": []
  }
 ],
 "metadata": {
  "kernelspec": {
   "display_name": "Python 3",
   "language": "python",
   "name": "python3"
  },
  "language_info": {
   "codemirror_mode": {
    "name": "ipython",
    "version": 3
   },
   "file_extension": ".py",
   "mimetype": "text/x-python",
   "name": "python",
   "nbconvert_exporter": "python",
   "pygments_lexer": "ipython3",
   "version": "3.7.4"
  }
 },
 "nbformat": 4,
 "nbformat_minor": 2
}
